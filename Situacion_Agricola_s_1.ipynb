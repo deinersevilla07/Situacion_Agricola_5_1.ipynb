{
  "nbformat": 4,
  "nbformat_minor": 0,
  "metadata": {
    "colab": {
      "provenance": [],
      "authorship_tag": "ABX9TyOHRWeF0PGoUNooB9J4MvFv",
      "include_colab_link": true
    },
    "kernelspec": {
      "name": "python3",
      "display_name": "Python 3"
    },
    "language_info": {
      "name": "python"
    }
  },
  "cells": [
    {
      "cell_type": "markdown",
      "metadata": {
        "id": "view-in-github",
        "colab_type": "text"
      },
      "source": [
        "<a href=\"https://colab.research.google.com/github/deinersevilla07/Situacion_Agricola_5_1.ipynb/blob/main/Situacion_Agricola_s_1.ipynb\" target=\"_parent\"><img src=\"https://colab.research.google.com/assets/colab-badge.svg\" alt=\"Open In Colab\"/></a>"
      ]
    },
    {
      "cell_type": "code",
      "execution_count": null,
      "metadata": {
        "id": "T7-9Ctj-Smof"
      },
      "outputs": [],
      "source": [
        "#Situación de Interés en Ingeniería Agrícola\n",
        "\n",
        "Un agricultor necesita saber cuántos kilogramos\n",
        "de semilla de maíz debe comprar para sembrar un lote rectangular. Conoce la densidad de siembra\n",
        "recomendada (kg por hectárea) y las dimensiones del lote (largo y ancho en metros)."
      ]
    },
    {
      "cell_type": "code",
      "source": [
        "# 1. Saludar al usuario y explicar qué hace el programa.\n",
        "print(\"bienvenido al programa de cálculo de semillas de maíz\")\n",
        "\n",
        "# 2. Pedir al usuario que ingrese el largo del lote en metros (input sin convertir NO USAR FLOAT).\n",
        "largo = input(\"ingrese el largo del lote en metros: \")\n",
        "\n",
        "# 3. Pedir el ancho del lote en metros (input NO USAR FLOAT).\n",
        "ancho = input(\"ingrese el ancho del lote en metros: \")\n",
        "\n",
        "# 4. Pedir la densidad de siembra recomendada en kg/hectarea (input NO USAR FLOAT).\n",
        "densidad = input(\"ingrese la densidad de siembra recomendada en kg/hectarea: \")\n",
        "\n",
        "# 5. Convertir las entradas de texto a números decimales (float).\n",
        "largo = float(largo)\n",
        "ancho = float(ancho)\n",
        "densidad = float(densidad)\n",
        "\n",
        "# 6. Calcular el área en metros cuadrados (largo * ancho).\n",
        "area = largo * ancho\n",
        "\n",
        "# 7. Convertir el área a hectáreas (1 hectárea = 10,000 m²).\n",
        "area_hectareas = area / 10000\n",
        "\n",
        "# 8. Calcular la cantidad de semillas de maíz necesarias (area_hectareas * densidad).\n",
        "semillas_necesarias = area_hectareas * densidad\n",
        "\n",
        "# 9. Mostrar el resultado final al usuario de forma clara (print).\n",
        "print(f\"los kg de semillas son {semillas}\")\n"
      ],
      "metadata": {
        "colab": {
          "base_uri": "https://localhost:8080/"
        },
        "id": "BUtosiM2TU_L",
        "outputId": "269600de-87e5-45b6-ca43-f122cc9cbe34"
      },
      "execution_count": 3,
      "outputs": [
        {
          "name": "stdout",
          "output_type": "stream",
          "text": [
            "bienvenido al programa de cálculo de semillas de maíz\n",
            "ingrese el largo del lote en metros: 25\n"
          ]
        }
      ]
    },
    {
      "cell_type": "markdown",
      "metadata": {
        "id": "f7dd2abb"
      },
      "source": [
        "Este código calcula la cantidad de semillas de maíz necesarias para sembrar un lote rectangular basándose en el largo, el ancho y la densidad de siembra.\n",
        "\n",
        "Aquí te explico cada parte:\n",
        "\n",
        "1.  **`print(\"bienvenido al programa de cálculo de semillas de maíz\")`**: Imprime un mensaje de bienvenida al usuario.\n",
        "2.  **`largo = input(\"ingrese el largo del lote en metros: \")`**: Pide al usuario que ingrese el largo del lote en metros y guarda la entrada como texto en la variable `largo`.\n",
        "3.  **`ancho = input(\"ingrese el ancho del lote en metros: \")`**: Pide al usuario que ingrese el ancho del lote en metros y guarda la entrada como texto en la variable `ancho`.\n",
        "4.  **`densidad = input(\"ingrese la densidad de siembra recomendada en kg/hectarea: \")`**: Pide al usuario que ingrese la densidad de siembra recomendada en kg por hectárea y guarda la entrada como texto en la variable `densidad`.\n",
        "5.  **`largo = float(largo)`**, **`ancho = float(ancho)`**, **`densidad = float(densidad)`**: Convierte los valores de texto ingresados por el usuario a números decimales (tipo `float`) para poder realizar cálculos con ellos.\n",
        "6.  **`area = largo * ancho`**: Calcula el área del lote en metros cuadrados multiplicando el largo por el ancho.\n",
        "7.  **`area_hectareas = area / 10000`**: Convierte el área de metros cuadrados a hectáreas, ya que 1 hectárea equivale a 10,000 metros cuadrados.\n",
        "8.  **`semillas_necesarias = area_hectareas * densidad`**: Calcula la cantidad total de semillas necesarias en kilogramos multiplicando el área en hectáreas por la densidad de siembra.\n",
        "9.  **`print(f\"los kg de semillas son {semillas}\")`**: Imprime el resultado final, mostrando la cantidad de kilogramos de semillas necesarios."
      ]
    }
  ]
}