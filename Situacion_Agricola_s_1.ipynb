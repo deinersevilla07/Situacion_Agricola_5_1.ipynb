{
  "nbformat": 4,
  "nbformat_minor": 0,
  "metadata": {
    "colab": {
      "provenance": [],
      "toc_visible": true,
      "authorship_tag": "ABX9TyNChBM4S9eX1Pe4N2xK8KYm",
      "include_colab_link": true
    },
    "kernelspec": {
      "name": "python3",
      "display_name": "Python 3"
    },
    "language_info": {
      "name": "python"
    }
  },
  "cells": [
    {
      "cell_type": "markdown",
      "metadata": {
        "id": "view-in-github",
        "colab_type": "text"
      },
      "source": [
        "<a href=\"https://colab.research.google.com/github/deinersevilla07/Situacion_Agricola_5_1.ipynb/blob/main/Situacion_Agricola_s_1.ipynb\" target=\"_parent\"><img src=\"https://colab.research.google.com/assets/colab-badge.svg\" alt=\"Open In Colab\"/></a>"
      ]
    },
    {
      "cell_type": "markdown",
      "source": [
        "# Situación de Interés en Ingeniería Agrícola\n",
        "\n",
        "Un agricultor necesita saber cuántos kilogramos\n",
        "de semilla de maíz debe comprar para sembrar un lote rectangular. Conoce la densidad de siembra\n",
        "recomendada (kg por hectárea) y las dimensiones del lote (largo y ancho en metros)."
      ],
      "metadata": {
        "id": "RZY8I7-7d2zQ"
      }
    },
    {
      "cell_type": "code",
      "source": [
        "# 1. Saludar al usuario y explicar qué hace el programa.\n",
        "print(\"bienvenido al programa de cálculo de semillas de maíz\")\n",
        "\n",
        "# 2. Pedir al usuario que ingrese el largo del lote en metros (input sin convertir NO USAR FLOAT).\n",
        "largo = input(\"ingrese el largo del lote en metros: \")\n",
        "\n",
        "# 3. Pedir el ancho del lote en metros (input NO USAR FLOAT).\n",
        "ancho = input(\"ingrese el ancho del lote en metros: \")\n",
        "\n",
        "# 4. Pedir la densidad de siembra recomendada en kg/hectarea (input NO USAR FLOAT).\n",
        "densidad = input(\"ingrese la densidad de siembra recomendada en kg/hectarea: \")\n",
        "\n",
        "# 5. Convertir las entradas de texto a números decimales (float).\n",
        "largo = float(largo)\n",
        "ancho = float(ancho)\n",
        "densidad = float(densidad)\n",
        "\n",
        "# 6. Calcular el área en metros cuadrados (largo * ancho).\n",
        "area = largo * ancho\n",
        "\n",
        "# 7. Convertir el área a hectáreas (1 hectárea = 10,000 m²).\n",
        "area_hectareas = area / 10000\n",
        "\n",
        "# 8. Calcular la cantidad de semillas de maíz necesarias (area_hectareas * densidad).\n",
        "semillas_necesarias = area_hectareas * densidad\n",
        "\n",
        "# 9. Mostrar el resultado final al usuario de forma clara (print).\n",
        "print(f\"los kg de semillas son {semillas}\")\n"
      ],
      "metadata": {
        "colab": {
          "base_uri": "https://localhost:8080/"
        },
        "id": "BUtosiM2TU_L",
        "outputId": "269600de-87e5-45b6-ca43-f122cc9cbe34"
      },
      "execution_count": 3,
      "outputs": [
        {
          "name": "stdout",
          "output_type": "stream",
          "text": [
            "bienvenido al programa de cálculo de semillas de maíz\n",
            "ingrese el largo del lote en metros: 25\n"
          ]
        }
      ]
    },
    {
      "cell_type": "markdown",
      "metadata": {
        "id": "f7dd2abb"
      },
      "source": [
        "Este código calcula la cantidad de semillas de maíz necesarias para sembrar un lote rectangular basándose en el largo, el ancho y la densidad de siembra.\n",
        "\n",
        "Aquí te explico cada parte:\n",
        "\n",
        "1.  **`print(\"bienvenido al programa de cálculo de semillas de maíz\")`**: Imprime un mensaje de bienvenida al usuario.\n",
        "2.  **`largo = input(\"ingrese el largo del lote en metros: \")`**: Pide al usuario que ingrese el largo del lote en metros y guarda la entrada como texto en la variable `largo`.\n",
        "3.  **`ancho = input(\"ingrese el ancho del lote en metros: \")`**: Pide al usuario que ingrese el ancho del lote en metros y guarda la entrada como texto en la variable `ancho`.\n",
        "4.  **`densidad = input(\"ingrese la densidad de siembra recomendada en kg/hectarea: \")`**: Pide al usuario que ingrese la densidad de siembra recomendada en kg por hectárea y guarda la entrada como texto en la variable `densidad`.\n",
        "5.  **`largo = float(largo)`**, **`ancho = float(ancho)`**, **`densidad = float(densidad)`**: Convierte los valores de texto ingresados por el usuario a números decimales (tipo `float`) para poder realizar cálculos con ellos.\n",
        "6.  **`area = largo * ancho`**: Calcula el área del lote en metros cuadrados multiplicando el largo por el ancho.\n",
        "7.  **`area_hectareas = area / 10000`**: Convierte el área de metros cuadrados a hectáreas, ya que 1 hectárea equivale a 10,000 metros cuadrados.\n",
        "8.  **`semillas_necesarias = area_hectareas * densidad`**: Calcula la cantidad total de semillas necesarias en kilogramos multiplicando el área en hectáreas por la densidad de siembra.\n",
        "9.  **`print(f\"los kg de semillas son {semillas}\")`**: Imprime el resultado final, mostrando la cantidad de kilogramos de semillas necesarios."
      ]
    },
    {
      "cell_type": "markdown",
      "source": [
        "## concepto de variablae\n",
        "Una variable en Python es como una caja con una etiqueta donde puedes guardar información. Puedes poner diferentes tipos de cosas en la caja (números, texto, listas, etc.), y la etiqueta te ayuda a recordar qué hay dentro.\n",
        "\n",
        "Sirve para:\n",
        "\n",
        "Almacenar datos: Guardas la información que necesitas usar en tu programa.\n",
        "Reutilizar valores: En lugar de escribir el mismo valor muchas veces, lo guardas en una variable y la usas en su lugar.\n",
        "Hacer tu código más legible: Nombres descriptivos para las variables hacen que sea más fácil entender qué está haciendo el código.\n",
        "Analogía:\n",
        "\n",
        "Imagina que estás haciendo una receta de cocina. Las variables son como los ingredientes que pones en diferentes recipientes. Cada recipiente tiene una etiqueta (el nombre de la variable) que dice qué ingrediente contiene (el valor de la variable). Cuando la receta te pide \"azúcar\", sabes que debes ir al recipiente etiquetado como \"azúcar\" para obtener la cantidad necesaria. Si necesitas usar azúcar varias veces, no tienes que ir al paquete de azúcar cada vez, solo al recipiente etiquetado.\n",
        "\n",
        "En el código que vimos antes:\n",
        "\n",
        "largo, ancho, densidad, area, area_hectareas, semillas_necesarias son variables.\n",
        "En ellas guardamos los valores que ingresa el usuario y los resultados de los cálculos."
      ],
      "metadata": {
        "id": "nU6vGB1tbAlv"
      }
    },
    {
      "cell_type": "markdown",
      "source": [
        "# Situación de Interés en Ingeniería Agroindustrial\n",
        "En una planta de procesamiento de mango,\n",
        "se quiere calcular el rendimiento de un lote de fruta. Se necesita un programa simple que tome el\n",
        "peso inicial de los mangos antes de pelarlos y deshuesarlos, y el peso final de la pulpa obtenida, para\n",
        "expresar el rendimiento como un porcentaje."
      ],
      "metadata": {
        "id": "YgYz1MARap-K"
      }
    },
    {
      "cell_type": "code",
      "source": [
        "# 1. Explicar el propósito de la calculadora.\n",
        "print(\"esta calculadora calcula el rendimiento de un lote de fruta\")\n",
        "\n",
        "# 2. Pedir el peso inicial del lote de mangos en kg (input).\n",
        "peso_inicial = input(\"ingrese el peso inicial del lote de mangos en kg: \")\n",
        "\n",
        "# 3. Pedir el peso final de la pulpa de la fruta en kg (input).\n",
        "peso_final = input(\"ingrese el peso final de la pulpa de la fruta en kg: \")\n",
        "\n",
        "# 4. Convertir ambos pesos a números decimales (float).\n",
        "peso_inicial = float(peso_inicial)\n",
        "peso_final = float(peso_final)\n",
        "\n",
        "# 5. Calcular el rendimiento como un porcentaje (peso_final / peso_inicial * 100).\n",
        "rendimiento = (peso_final / peso_inicial) * 100\n",
        "\n",
        "# 6. Mostrar el resultado al usuario (print).\n",
        "print(f\"el rendimiento del lote de mangos es {rendimiento:.2f}%\")\n"
      ],
      "metadata": {
        "colab": {
          "base_uri": "https://localhost:8080/"
        },
        "id": "-2wPVQ65bbJN",
        "outputId": "238ababf-18e8-431f-b476-f89d058e6832"
      },
      "execution_count": 8,
      "outputs": [
        {
          "output_type": "stream",
          "name": "stdout",
          "text": [
            "esta calculadora calcula el rendimiento de un lote de fruta\n",
            "ingrese el peso inicial del lote de mangos en kg: 1000\n",
            "ingrese el peso final de la pulpa de la fruta en kg: 340\n",
            "el rendimiento del lote de mangos es 34.00%\n"
          ]
        }
      ]
    },
    {
      "cell_type": "markdown",
      "metadata": {
        "id": "f9c6e70d"
      },
      "source": [
        "# Este código calcula el rendimiento de un lote de mangos en porcentaje.\n",
        "\n",
        "Aquí te explico cada parte:\n",
        "\n",
        "1.  **`print(\"esta calculadora calcula el rendimiento de un lote de fruta\")`**: Imprime un mensaje inicial para el usuario.\n",
        "2.  **`peso_inicial = input(\"ingrese el peso inicial del lote de mangos en kg: \")`**: Pide al usuario que ingrese el peso inicial de los mangos antes de procesar y lo guarda como texto.\n",
        "3.  **`peso_final = input(\"ingrese el peso final de la pulpa de la fruta en kg: \")`**: Pide al usuario que ingrese el peso final de la pulpa obtenida y lo guarda como texto.\n",
        "4.  **`peso_inicial = float(peso_inicial)`**, **`peso_final = float(peso_final)`**: Convierte las entradas de texto del usuario a números decimales (`float`) para poder realizar cálculos.\n",
        "5.  **`rendimiento = (peso_final / peso_inicial) * 100`**: Calcula el rendimiento dividiendo el peso final por el peso inicial y multiplicando por 100 para obtener un porcentaje.\n",
        "6.  **`print(f\"el rendimiento del lote de mangos es {rendimiento:.2f}%\")`**: Muestra el resultado final al usuario, formateando el rendimiento a dos decimales."
      ]
    },
    {
      "cell_type": "markdown",
      "metadata": {
        "id": "1416bd1d"
      },
      "source": [
        "En la línea `print(f\"el rendimiento del lote de mangos es {rendimiento:.2f}%\")`, la `f` al inicio de la cadena de texto significa que es una **f-string** (o cadena formateada literal).\n",
        "\n",
        "Las f-strings son una forma conveniente y legible de incrustar expresiones de Python dentro de cadenas de texto. Permiten incluir el valor de variables o expresiones directamente dentro de la cadena, prefijándola con la letra `f`.\n",
        "\n",
        "Dentro de la f-string, las llaves `{}` se utilizan para encerrar las variables o expresiones que se quieren incluir. En este caso:\n",
        "\n",
        "*   `{rendimiento}`: Inserta el valor de la variable `rendimiento` en la cadena.\n",
        "*   `:.2f`: Es un especificador de formato que indica cómo se debe mostrar el valor de `rendimiento`.\n",
        "    *   `:`: Introduce el especificador de formato.\n",
        "    *   `.2f`: Formatea el número como un punto flotante con exactamente 2 decimales.\n",
        "\n",
        "En resumen, la `f` activa la funcionalidad de f-string, permitiendo que el valor de la variable `rendimiento` se inserte y se formatee dentro de la cadena de texto para ser mostrado al usuario."
      ]
    }
  ]
}